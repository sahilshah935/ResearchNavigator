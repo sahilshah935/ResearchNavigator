{
  "nbformat": 4,
  "nbformat_minor": 0,
  "metadata": {
    "colab": {
      "provenance": []
    },
    "kernelspec": {
      "name": "python3",
      "display_name": "Python 3"
    },
    "language_info": {
      "name": "python"
    }
  },
  "cells": [
    {
      "cell_type": "code",
      "source": [
        "import json\n",
        "import requests\n",
        "import csv\n",
        "import os\n",
        "import google.generativeai as genai"
      ],
      "metadata": {
        "id": "uMTTLzY7ljLl"
      },
      "execution_count": 51,
      "outputs": []
    },
    {
      "cell_type": "code",
      "source": [
        "def search_semantic_scholar(query, limit=5):\n",
        "    url = \"https://api.semanticscholar.org/graph/v1/paper/search\"\n",
        "    params = {\n",
        "        \"query\": query,\n",
        "        \"limit\": limit,\n",
        "        \"fields\": \"title,authors,year,url,abstract\"\n",
        "    }\n",
        "\n",
        "    response = requests.get(url, params=params)\n",
        "    results = []\n",
        "    if response.status_code == 200:\n",
        "        data = response.json()\n",
        "        for paper in data.get(\"data\", []):\n",
        "            results.append({\n",
        "                \"url\": paper.get(\"url\", \"\"),\n",
        "                \"topic\": paper.get(\"title\", \"Unknown Title\"),\n",
        "                \"author\": \", \".join([a[\"name\"] for a in paper.get(\"authors\", [])]),\n",
        "                \"year\": paper.get(\"year\", \"Unknown\"),\n",
        "                \"rating\": round(4 + 0.1 * (5 - len(results)), 1)  # Fake rating logic\n",
        "            })\n",
        "    else:\n",
        "        print(\"❌ Semantic Scholar Error:\", response.status_code)\n",
        "\n",
        "    return results"
      ],
      "metadata": {
        "id": "rMW9at0Klmp4"
      },
      "execution_count": 52,
      "outputs": []
    },
    {
      "cell_type": "code",
      "source": [
        "def save_to_csv(data, filename=\"papers.csv\"):\n",
        "    keys = data[0].keys() if data else []\n",
        "    with open(filename, \"w\", newline=\"\") as f:\n",
        "        writer = csv.DictWriter(f, fieldnames=keys)\n",
        "        writer.writeheader()\n",
        "        writer.writerows(data)"
      ],
      "metadata": {
        "id": "rE6PjCfflpbu"
      },
      "execution_count": 53,
      "outputs": []
    },
    {
      "cell_type": "code",
      "source": [
        "def start_search():\n",
        "    \"\"\"\n",
        "    Start the search process by prompting the user for input.\n",
        "    \"\"\"\n",
        "    description = input(\"Enter a description of the topic: \").strip()\n",
        "    keywords = input(\"Enter keywords (comma-separated): \").strip()\n",
        "\n",
        "    print(\"\\nFetching results from Semantic Scholar...\")\n",
        "    results = search_semantic_scholar(f\"{description} {keywords}\")\n",
        "\n",
        "    # Display results\n",
        "    print(\"\\n✅ Final Results:\")\n",
        "    print(json.dumps(results, indent=2))\n",
        "\n",
        "    # Save results to CSV\n",
        "    save_to_csv(results)\n",
        "    print(\"\\n📁 Results saved to 'papers.csv'.\")\n",
        "\n",
        "# Start the search\n",
        "start_search()"
      ],
      "metadata": {
        "colab": {
          "base_uri": "https://localhost:8080/"
        },
        "id": "IyeVIW4Ulqai",
        "outputId": "ef7f86b5-51dc-40a5-dc69-44d48ce1602e"
      },
      "execution_count": 56,
      "outputs": [
        {
          "output_type": "stream",
          "name": "stdout",
          "text": [
            "Enter a description of the topic: image Recognition\n",
            "Enter keywords (comma-separated): cv, ai\n",
            "\n",
            "Fetching results from Semantic Scholar...\n",
            "\n",
            "✅ Final Results:\n",
            "[\n",
            "  {\n",
            "    \"url\": \"https://www.semanticscholar.org/paper/3c1bfa3b5fd083eb3e8981c5b49e6311e6f09048\",\n",
            "    \"topic\": \"On Site Personnel Access Monitoring and Early Warning in Photovoltaic Field Based on AI Image Recognition\",\n",
            "    \"author\": \"Wenjin Zheng, Yajun Wang, Xiaochen Xu, Hao Chu, Danyang Jin, Shibiao Fang\",\n",
            "    \"year\": 2024,\n",
            "    \"rating\": 4.5\n",
            "  },\n",
            "  {\n",
            "    \"url\": \"https://www.semanticscholar.org/paper/a4d4b3d79286bf85831c169788f4e2ad2fdedfea\",\n",
            "    \"topic\": \"Interactive Image Processing: Design of an AI Assisted Human Computer Interaction Logic Using Gesture Recognition Model Based on Logical Open CV Scheme\",\n",
            "    \"author\": \"A. Jaya, Mabel Rani, Celine Kavida, S. Sujatha, L. V. Kumar, R. Anbunathan, B. S. Ahamed\",\n",
            "    \"year\": 2024,\n",
            "    \"rating\": 4.4\n",
            "  },\n",
            "  {\n",
            "    \"url\": \"https://www.semanticscholar.org/paper/e869f00248289c305bebba4d401c285e0443e1fe\",\n",
            "    \"topic\": \"Large Scale Image Data Processing and Content Recognition Based on Deep Learning\",\n",
            "    \"author\": \"Ruoyan Wan, Xiuzhuo Wei, Rui Ma, Huinan Zhao, Feng Wu\",\n",
            "    \"year\": 2024,\n",
            "    \"rating\": 4.3\n",
            "  },\n",
            "  {\n",
            "    \"url\": \"https://www.semanticscholar.org/paper/7caf2fce2965684ec4aa218ed4be7a6703e66025\",\n",
            "    \"topic\": \"Three-branch and Mutil-scale learning for Fine-grained Image Recognition (TBMSL-Net)\",\n",
            "    \"author\": \"Fan Zhang, G. Zhai, Meng Li, Yizhao Liu\",\n",
            "    \"year\": 2020,\n",
            "    \"rating\": 4.2\n",
            "  },\n",
            "  {\n",
            "    \"url\": \"https://www.semanticscholar.org/paper/03af05953dc6eddfd536868b692e16f521c2631b\",\n",
            "    \"topic\": \"Object Recognition to Content Based Image Retrieval: A Study of the Developments and Applications of Computer Vision\",\n",
            "    \"author\": \"Udula Mangalika\",\n",
            "    \"year\": 2024,\n",
            "    \"rating\": 4.1\n",
            "  }\n",
            "]\n",
            "\n",
            "📁 Results saved to 'papers.csv'.\n"
          ]
        }
      ]
    },
    {
      "cell_type": "code",
      "source": [],
      "metadata": {
        "id": "cu6M8kaXp_Cs"
      },
      "execution_count": 54,
      "outputs": []
    }
  ]
}